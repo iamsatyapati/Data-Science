{
 "cells": [
  {
   "cell_type": "markdown",
   "metadata": {},
   "source": [
    "# Data Science Methodology\n",
    "\n",
    "Before conducting data science you need to ask these questions, sequentially:<br>\n",
    "**from problem to approach**\n",
    "1. What is the problem you are trying to solve.\n",
    "2. How data science can be helpful means how you can use data to find answer?<br>\n",
    "**Working with the data**<br>\n",
    "3. What is the data needed to answer the question?\n",
    "4. What is the source of the data?\n",
    "5. Is the collected data appropriate for the problem? Can we find solution by using the data?\n",
    "6. What additional job should be done to make the data more usable?<br>\n",
    "**Delivering the solution**<br>\n",
    "7. Is the data explainatory enough or how can we do it? (EDA/visualizations)\n",
    "8. Does the model answer the question or need adjustments?\n",
    "9. Is the model usable? If yes, how to put it into practice?\n",
    "10. How to get feedback and measure its performance, so that it can be better than previous?\n",
    "\n",
    "For data science methodology sometimes CRISP-DM is referred. CRISP-DM stands for **cross industry standard process for data mining**. According to CRISP-DM the process flow goes like this:\n",
    "1. Business Understanding: This is the most important part of the project. Because it is the step where the intention of the project is outlined. Foundational methodology and CRISP-DM is aligned here. Clarity in communication is required in this step. The primary objective is requirement of the business. he difficulty here is that stake holders have different objectives, biases and modalities of realting information. \n",
    "2. Data Understanding: It relies on the 1st step that is business understanding. Data is collected at this stage of the process. The understanding of what business wants and needs will determine which data to collect from what source and by what methods. CRISP-DM combines the stage of data requirements, collections, and data understanding from the foundational methodology outline.\n",
    "3. Data preparation: Once the data is collected, it must be transformed to a usable subset of data unless it is determined that more data is needed. \n",
    "4. Modelling: Once data is prepared, the data should be expressed through whatever appropriate model, give miningful insights and hopefully new knowledge. The use of models reveal the pattern and structures within the data. Models are selected on a portion of the data and adjustments are made if necessary.\n",
    "5. Evaluation: The selected model must be tested by using a predefined testing method. Results from this stage determines the performance of the model.\n",
    "6. Deployment: Is the selected model deployable? If yes, the model is deployed to do its job. The model performs on the data outside of the scope. \n",
    "\n",
    "CRISP-DM is highly flexible and cyclic model. At any stage, if you feel to revisit the previous, you can and then continue with the cycle. \n",
    "\n",
    "This is the second stage of data science methodology. Here we analyze the type of the question formulated in business understanding. Like:\n",
    "\n",
    "    if the question is to determine the probabilities of an action : use predictive models\n",
    "    If the question is to show relationships : use a descriptive model\n",
    "    If the question requires a yes or no : use a classification model\n"
   ]
  },
  {
   "cell_type": "code",
   "execution_count": null,
   "metadata": {},
   "outputs": [],
   "source": []
  }
 ],
 "metadata": {
  "kernelspec": {
   "display_name": "Python 3",
   "language": "python",
   "name": "python3"
  },
  "language_info": {
   "codemirror_mode": {
    "name": "ipython",
    "version": 3
   },
   "file_extension": ".py",
   "mimetype": "text/x-python",
   "name": "python",
   "nbconvert_exporter": "python",
   "pygments_lexer": "ipython3",
   "version": "3.7.4"
  }
 },
 "nbformat": 4,
 "nbformat_minor": 2
}
